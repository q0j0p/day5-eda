{
 "cells": [
  {
   "cell_type": "markdown",
   "metadata": {},
   "source": [
    "# Basic Unix Survival Skills\n",
    "\n",
    "## Configuring your environment\n",
    "\n",
    "The first thing you should do when you set up a unix machine is configure your shell (since you'll be working in it a lot). I'm assuming we'll be using a `bash` shell, but if you're using `zsh` or `sh` or any other shell, just replace `bash` with that in what follows.\n",
    "\n",
    "The user defined settings that determine where unix will look for executables will be stored in \n",
    "```\n",
    "~/.bash_profile\n",
    "```\n",
    "\n",
    "on OSX and \n",
    "```\n",
    "~/.bashrc\n",
    "``` \n",
    "on most linux distros. Generally speaking, files starting with a `.` contain configuration information and shouldn't be messed with unless you need to!!!"
   ]
  },
  {
   "cell_type": "code",
   "execution_count": 1,
   "metadata": {
    "collapsed": false
   },
   "outputs": [
    {
     "name": "stdout",
     "output_type": "stream",
     "text": [
      "Applications\n",
      "Coursework\n",
      "Desktop\n",
      "Documents\n",
      "Downloads\n",
      "Library\n",
      "Movies\n",
      "Music\n",
      "Pictures\n",
      "Projects\n",
      "Public\n",
      "anaconda\n",
      "nltk_data\n"
     ]
    }
   ],
   "source": [
    "%%bash\n",
    "\n",
    "# This won't show any dot-files\n",
    "\n",
    "ls ~"
   ]
  },
  {
   "cell_type": "code",
   "execution_count": 2,
   "metadata": {
    "collapsed": false
   },
   "outputs": [
    {
     "name": "stdout",
     "output_type": "stream",
     "text": [
      ".CFUserTextEncoding\n",
      ".DS_Store\n",
      ".Trash\n",
      ".atom\n",
      ".bash_history\n",
      ".bash_profile\n",
      ".bash_profile-anaconda.bak\n",
      ".bashrc\n",
      ".continuum\n",
      ".cups\n",
      ".gitconfig\n",
      ".graphlab\n",
      ".ipython\n",
      ".jupyter\n",
      ".matplotlib\n",
      ".ssh\n",
      ".viminfo\n",
      "Applications\n",
      "Coursework\n",
      "Desktop\n",
      "Documents\n",
      "Downloads\n",
      "Library\n",
      "Movies\n",
      "Music\n",
      "Pictures\n",
      "Projects\n",
      "Public\n",
      "anaconda\n",
      "nltk_data\n"
     ]
    }
   ],
   "source": [
    "%%bash\n",
    "\n",
    "# This will\n",
    "\n",
    "ls -A ~"
   ]
  },
  {
   "cell_type": "code",
   "execution_count": 8,
   "metadata": {
    "collapsed": false
   },
   "outputs": [
    {
     "name": "stdout",
     "output_type": "stream",
     "text": [
      "hello\n"
     ]
    }
   ],
   "source": [
    "%%bash \n",
    "\n",
    "#Suppose have have a script say_hello that prints the word hello to the terminal\n",
    "\n",
    "echo 'echo \"hello\"' > say_hello\n",
    "chmod u+x say_hello\n",
    "\n",
    "#I can run it from here by typing\n",
    "\n",
    "./say_hello"
   ]
  },
  {
   "cell_type": "code",
   "execution_count": 9,
   "metadata": {
    "collapsed": false
   },
   "outputs": [
    {
     "name": "stderr",
     "output_type": "stream",
     "text": [
      "bash: line 4: say_hello: command not found\n",
      "bash: line 9: say_hello: command not found\n"
     ]
    }
   ],
   "source": [
    "%%bash\n",
    "\n",
    "# But if I try to run it without the ./\n",
    "\n",
    "say_hello\n",
    "\n",
    "# or from somewhere else\n",
    "\n",
    "cd ~\n",
    "say_hello"
   ]
  },
  {
   "cell_type": "code",
   "execution_count": 10,
   "metadata": {
    "collapsed": false
   },
   "outputs": [
    {
     "name": "stdout",
     "output_type": "stream",
     "text": [
      "Path\n",
      "/Users/brianmann/anaconda/bin:/usr/local/bin:/usr/bin:/bin:/usr/sbin:/sbin\n",
      "New Path\n",
      "/Users/brianmann/anaconda/bin:/usr/local/bin:/usr/bin:/bin:/usr/sbin:/sbin:/Users/brianmann/Coursework/fundamentals/lectures/\n",
      "Saying Hello!\n",
      "hello\n"
     ]
    }
   ],
   "source": [
    "%%bash\n",
    "\n",
    "# In order to run an exectuable file, unix needs to know where it is\n",
    "# That's what the PATH variable is for: it stores a list of locations\n",
    "# where unix will look for commands that you type in\n",
    "\n",
    "echo \"Path\"\n",
    "echo $PATH\n",
    "\n",
    "# You can add directories to your PATH by adding the following line to your .bash_profile\n",
    "\n",
    "export PATH=\"$PATH:/Users/$USER/Coursework/fundamentals/lectures/\"\n",
    "\n",
    "# Now, this directory will be in your path everytime to start a bash shell\n",
    "\n",
    "echo \"New Path\"\n",
    "echo $PATH\n",
    "\n",
    "# And I can run my function from anywhere\n",
    "echo \"Saying Hello!\"\n",
    "say_hello\n",
    "\n",
    "rm say_hello "
   ]
  },
  {
   "cell_type": "markdown",
   "metadata": {},
   "source": [
    "### Side Note\n",
    "\n",
    "The `$` operator is used to access the value of a bash variable."
   ]
  },
  {
   "cell_type": "code",
   "execution_count": 11,
   "metadata": {
    "collapsed": false
   },
   "outputs": [
    {
     "name": "stdout",
     "output_type": "stream",
     "text": [
      "hello\n"
     ]
    }
   ],
   "source": [
    "%%bash\n",
    "\n",
    "echo \"hello\""
   ]
  },
  {
   "cell_type": "markdown",
   "metadata": {},
   "source": [
    "The function `cat` does the same thing, except if takes a file as input."
   ]
  },
  {
   "cell_type": "code",
   "execution_count": 12,
   "metadata": {
    "collapsed": false
   },
   "outputs": [
    {
     "name": "stdout",
     "output_type": "stream",
     "text": [
      "TEXT FLY WITHIN \n",
      "THE BOOK ONLY \n",
      "\n",
      "\n",
      "\n",
      "Tight Binding Book \n",
      "\n",
      "\n",
      "\n",
      "CO > UJ \n",
      "\n",
      "ft <OU_1 68052 >m \n",
      "\n",
      "\n",
      "\n",
      "OUP 2273 19-1 1-79 10,000 Copies. \n",
      "\n",
      "OSMANIA UNIVERSITY LIBRARY \n",
      "\n",
      "Call No ^^L Accession No ^95 gg \n",
      "\n",
      "Author -j- 4.STt> y^ \n",
      "\n",
      "Title W<U *'<P4>*' ( *~' \n",
      "\n",
      "This book should bc^rcturned on or before the date last marked below. \n",
      "\n",
      "\n",
      "\n",
      "War and Peace \n",
      "\n",
      "\n",
      "\n",
      "BY LEO TOLSTOY \n",
      "\n",
      "\n",
      "\n",
      "Translated b\\ LOUISE and AYLMER MAUDE \n",
      "\n",
      "\n",
      "\n",
      "\n",
      "WILLIAM BENTON, Publisher \n",
      "\n",
      "\n",
      "\n",
      "ENCYCLOPEDIA BR1TANNICA, INC. \n",
      "\n",
      "\n",
      "\n"
     ]
    }
   ],
   "source": [
    "%%bash\n",
    "\n",
    "cat ../data/truncated.txt"
   ]
  },
  {
   "cell_type": "code",
   "execution_count": 13,
   "metadata": {
    "collapsed": false
   },
   "outputs": [
    {
     "name": "stdout",
     "output_type": "stream",
     "text": [
      "Your username:\n",
      "brianmann\n",
      "Your home directory:\n",
      "/Users/brianmann\n",
      "Your shell:\n",
      "/bin/bash\n"
     ]
    }
   ],
   "source": [
    "%%bash\n",
    "\n",
    "# There are other environment variables like PATH\n",
    "\n",
    "echo \"Your username:\"\n",
    "echo $USER\n",
    "\n",
    "echo \"Your home directory:\"\n",
    "echo $HOME\n",
    "\n",
    "echo \"Your shell:\"\n",
    "echo $SHELL"
   ]
  },
  {
   "cell_type": "markdown",
   "metadata": {},
   "source": [
    "## Permissions\n",
    "\n",
    "In Unix, a user can have 3 types of permissions on a file: Read, Write, and Execute. "
   ]
  },
  {
   "cell_type": "code",
   "execution_count": 14,
   "metadata": {
    "collapsed": false
   },
   "outputs": [
    {
     "name": "stdout",
     "output_type": "stream",
     "text": [
      "bss-correct.pdf\n",
      "unix_lecture.ipynb\n"
     ]
    }
   ],
   "source": [
    "%%bash\n",
    "\n",
    "#The ls command will list all the files and directories contained in a directory\n",
    "\n",
    "ls"
   ]
  },
  {
   "cell_type": "code",
   "execution_count": 15,
   "metadata": {
    "collapsed": false
   },
   "outputs": [
    {
     "name": "stdout",
     "output_type": "stream",
     "text": [
      "total 496\n",
      "-rw-r--r--  1 brianmann  staff  226758 Oct 22 15:23 bss-correct.pdf\n",
      "-rw-r--r--  1 brianmann  staff   21655 Oct 23 09:49 unix_lecture.ipynb\n"
     ]
    }
   ],
   "source": [
    "%%bash\n",
    "\n",
    "# You can also add the -l flag to see more information\n",
    "\n",
    "ls -l"
   ]
  },
  {
   "cell_type": "markdown",
   "metadata": {},
   "source": [
    "The first 10 characters of the output above tells you the permissions:\n",
    "\n",
    "The first character is either `d` or `-`. This tells you whether it is a directory or not (a file). "
   ]
  },
  {
   "cell_type": "code",
   "execution_count": 16,
   "metadata": {
    "collapsed": false
   },
   "outputs": [
    {
     "name": "stdout",
     "output_type": "stream",
     "text": [
      "total 96\n",
      "-rw-r--r--  1 brianmann  staff   7514 Oct 22 15:23 Data science workflow.ipynb\n",
      "-rw-r--r--  1 brianmann  staff  13336 Oct 22 15:23 EDA.ipynb\n",
      "-rw-r--r--  1 brianmann  staff   5688 Oct 22 13:35 README.md\n",
      "drwxr-xr-x  5 brianmann  staff    170 Oct 22 21:48 data\n",
      "drwxr-xr-x  4 brianmann  staff    136 Oct 22 13:35 img\n",
      "-rw-r--r--  1 brianmann  staff   5501 Oct 22 13:35 individual.md\n",
      "drwxr-xr-x  5 brianmann  staff    170 Oct 23 09:51 lectures\n",
      "-rw-r--r--  1 brianmann  staff   3439 Oct 22 13:35 miniquiz.md\n",
      "-rw-r--r--  1 brianmann  staff     28 Oct 22 13:35 pair.md\n"
     ]
    }
   ],
   "source": [
    "%%bash\n",
    "\n",
    "# .. refers to the directory one level up\n",
    "\n",
    "ls -l .."
   ]
  },
  {
   "cell_type": "markdown",
   "metadata": {},
   "source": [
    "The next 9 characters are in blocks of 3: \n",
    "```\n",
    "user permissions | group permissions | other permissions\n",
    "```\n",
    "\n",
    "The first character is `'r'` or `'-'` : read permission.\n",
    "\n",
    "The second is `'w'` or `'-'` : write permissions.\n",
    "\n",
    "The third is `'x'` or `'-'` : execute permissions.\n",
    "\n",
    "In each line above, the owning user and the group that user is in are displyed in columns 3 and 4. So, for example, `brianmann` has `rwx` permissions on `say_hello`, but no one else has permissions to write to it or execute it. \n",
    "\n",
    "The `chmod` command will change permssions. The command looks something like \n",
    "\n",
    "```\n",
    "chmod 400 filename\n",
    "``` \n",
    "or\n",
    "```\n",
    "chmod 777 filename\n",
    "```\n",
    "\n",
    "\n",
    "`7` : read, write and execute || rwx\n",
    "\n",
    "`6` : read and write || rw-\n",
    "\n",
    "`5` : read and execute || r-x\n",
    "\n",
    "`4` : read only || r--\n",
    "\n",
    "`3` : write and execute || -wx\n",
    "\n",
    "`2` : write only || -w-\n",
    "\n",
    "`1` : execute only || --x\n",
    "\n",
    "`0` : none || ---\n"
   ]
  },
  {
   "cell_type": "markdown",
   "metadata": {},
   "source": [
    "## Navigating the Filesystem\n",
    "\n",
    "So, how do you navigate to, move, copy, or delete files and directories?\n",
    "\n",
    "`ls` [dir] : List the contents of a directory. Use current directory is dir is missing.\n",
    "\n",
    "`pwd` : Print current directory\n",
    "\n",
    "`cd` [dir] : Change directory. Use $HOME if dir is missing.\n",
    "\n",
    "`mkdir` dir : Make a new directory\n",
    "\n",
    "`rmdir` dir : Delete directory\n",
    "\n",
    "`rm` file : Delete file\n",
    "\n",
    "`rm -rf` * : Nuke everything, file or an entire directory. This cannot be undone. It will not give you a warning if you're about to delete something important. Never do this.\n",
    "\n",
    "`mv` from to : Move a file or directory. Can also be used to rename a file or directory.\n",
    "\n",
    "`cp` : Copy files or directories.\n",
    "\n",
    "`find` : Traverse directory tree and execute commands\n",
    "\n",
    "`chmod` : Change permissions\n",
    "\n",
    "`chown` : Change ownership"
   ]
  },
  {
   "cell_type": "code",
   "execution_count": 41,
   "metadata": {
    "collapsed": false
   },
   "outputs": [
    {
     "name": "stdout",
     "output_type": "stream",
     "text": [
      "total 496\n",
      "-rw-r--r--  1 brianmann  staff  226758 Oct 22 15:23 bss-correct.pdf\n",
      "drwxr-xr-x  2 brianmann  staff      68 Oct 23 11:00 new\n",
      "-rw-r--r--  1 brianmann  staff   22125 Oct 23 11:00 unix_lecture.ipynb\n"
     ]
    }
   ],
   "source": [
    "%%bash \n",
    "\n",
    "mkdir new\n",
    "ls -l"
   ]
  },
  {
   "cell_type": "markdown",
   "metadata": {},
   "source": [
    "## Examining files\n",
    "\n",
    "What if you want to look at / know something about a file?\n",
    "\n",
    "`less` : View contents of a file and page through it.\n",
    "\n",
    "`grep` : Search lines for matches of a regular expression or string. Probably you want to use `grep -E` all the time, since it accepts more modern regex syntax. \n",
    "\n",
    "`cat` : Write one or more files to `stdout` one after the other.\n",
    "\n",
    "`head` : Print the first few lines of a file to `stdout`.\n",
    "\n",
    "`tail` : Print the last few lines of a file to `stdout`.\n",
    "\n",
    "`wc` : Print the number of character, words, and lines in a file.\n",
    "\n",
    "`cmp` : Tell if files are the same.\n",
    "\n",
    "`diff` : Show difference between files.\n",
    "\n",
    "`sum` : Compute checksum of file."
   ]
  },
  {
   "cell_type": "code",
   "execution_count": 62,
   "metadata": {
    "collapsed": false
   },
   "outputs": [
    {
     "name": "stdout",
     "output_type": "stream",
     "text": [
      "bss-correct.pdf\n",
      "say_hello\n",
      "unix_lecture.ipynb\n"
     ]
    }
   ],
   "source": [
    "%%bash\n",
    "\n",
    "ls"
   ]
  },
  {
   "cell_type": "markdown",
   "metadata": {},
   "source": [
    "## Doing things with files\n",
    "\n",
    "All unix functions are based on the idea that text files are made up of lines or text. \n",
    "\n",
    "`sort` : Sorts the lines in a file\n",
    "\n",
    "`uniq` : Outputs file with adjacent identical lines collapsed to one\n",
    "\n",
    "`cut` : Extract parts of each line of input\n",
    "\n",
    "`paste` : Joins files by outputing sequentially corresponding lines of each file (horizontal version of `cat`)\n",
    "\n",
    "`sed` : Find and replace with regex.\n",
    "\n",
    "`tr` : A simple character find and replace. Slightly less useful than `sed` but it allows you to replace things with newlines `'\\n'`, which doesn't work in `sed`. \n",
    "\n",
    "`awk` : Command for more advanced line-by-line file manipulation."
   ]
  },
  {
   "cell_type": "code",
   "execution_count": null,
   "metadata": {
    "collapsed": true
   },
   "outputs": [],
   "source": []
  },
  {
   "cell_type": "markdown",
   "metadata": {},
   "source": [
    "## More advanced pipelines\n",
    "\n",
    "What if I want to chain these commands together? Do I need to write the result to a file each time and then read that in to the next command? NO!\n",
    "\n",
    "You can use IO redirection and pipes: `>, <, >>, |`\n",
    "\n",
    "`>` : Redirect output to a file. WILL OVERWRITE IF EXISTS.\n",
    "\n",
    "`>>` : Append output to and existing file.\n",
    "\n",
    "`<` : Read a command's input from disk.\n",
    "\n",
    "`|` : Pass output from one command as the input to another."
   ]
  },
  {
   "cell_type": "code",
   "execution_count": 40,
   "metadata": {
    "collapsed": false
   },
   "outputs": [
    {
     "name": "stdout",
     "output_type": "stream",
     "text": [
      "     536\n"
     ]
    }
   ],
   "source": [
    "%%bash\n",
    "\n",
    "# A simple pipeline to count the number of appearances of the word 'war' in War and Peace\n",
    "\n",
    "cat ../data/war_and_peace.txt | tr [A-Z] [a-z] | tr ' ' '\\n' | sed 's/\\.|,//g' | grep -E '^war$' | wc -l"
   ]
  },
  {
   "cell_type": "code",
   "execution_count": 39,
   "metadata": {
    "collapsed": false,
    "slideshow": {
     "slide_type": "-"
    }
   },
   "outputs": [
    {
     "name": "stdout",
     "output_type": "stream",
     "text": [
      " 408 peace\n",
      " 536 war\n"
     ]
    }
   ],
   "source": [
    "%%bash\n",
    "\n",
    "# We can also compare the number of occurances of 'peace' with 'war'\n",
    "\n",
    "cat ../data/war_and_peace.txt | tr [A-Z] [a-z] | tr ' ' '\\n' | sed 's/\\.|,//g' |\n",
    "grep -E '^(peace|war)$' | sort | uniq -c"
   ]
  },
  {
   "cell_type": "code",
   "execution_count": 25,
   "metadata": {
    "collapsed": false
   },
   "outputs": [
    {
     "name": "stdout",
     "output_type": "stream",
     "text": [
      "WILLIAM BENTON, Publisher \n"
     ]
    }
   ],
   "source": [
    "%%bash\n",
    "\n",
    "# Using the < operator\n",
    "\n",
    "grep -E '[Pp]ublisher' < ../data/war_and_peace.txt"
   ]
  },
  {
   "cell_type": "markdown",
   "metadata": {},
   "source": [
    "## A Simple Bash Script\n",
    "\n",
    "Let's write a simple program that will count the number of times your name appears in a text file.\n",
    "\n",
    "```\n",
    "#!/bin/bash\n",
    "\n",
    "NAME=$(echo $1 | tr [A-Z] [a-z])\n",
    "cat $2 | tr [A-Z] [a-z] | tr ' ' '\\n' | grep ^$NAME$ | wc -l\n",
    "```\n",
    "\n",
    "Bash scripting is kind of a lost art. If you want to write a complicated bash script, be prepared to do a lot of googling."
   ]
  },
  {
   "cell_type": "markdown",
   "metadata": {},
   "source": [
    "## Remote machines\n",
    "\n",
    "### ssh\n",
    "\n",
    "If you need to access a machine remotely, for example an EC2 instance on AWS, you'll need to use `ssh`.\n",
    "\n",
    "The general syntax is \n",
    "\n",
    "```\n",
    "ssh user@remote-hostname\n",
    "```\n",
    "\n",
    "This will log you into the host and open a command shell. There are some other options, like `-i` for credentials to connect securely.\n",
    "\n",
    "### scp\n",
    "\n",
    "If you don't want access to a terminal, but just to transfer files to and from a remote host, use `scp`.\n",
    "\n",
    "The basic syntax is\n",
    "\n",
    "```\n",
    "scp source_file_name username@destination_host:destination_folder\n",
    "```\n",
    "\n",
    "### sftp\n",
    "\n",
    "Using syntax similar to `ssh` we can run\n",
    "\n",
    "```\n",
    "sftp user@remote-hostname\n",
    "```\n",
    "\n",
    "to open a secure file transfer protocol. This opens a sftp shell which allows you to use a limited set of commands to navigate the remote filesystem and transfer files back and forth.\n",
    "\n"
   ]
  },
  {
   "cell_type": "markdown",
   "metadata": {},
   "source": [
    "## Text Editors\n",
    "\n",
    "If you `ssh` into a host, you need to do everything via the command line. That means no Atom or SublimeText or Gedit to edit your code. You'll need to use a terminal based text editor like Vi, Vim, Emacs, Nano, or Pico. \n",
    "\n",
    "People debate which is 'best' with nearly religious fervor. I like Vim. Lots of people like Emacs. I'm not very familiar with Nano or Pico. Pick one and learn the keyboard shortcuts - they'll all work just fine."
   ]
  },
  {
   "cell_type": "markdown",
   "metadata": {},
   "source": [
    "## Regular Expressions (Regex)\n",
    "\n",
    "Regular expressions are way to search text for patterns instead of just matching strings.\n",
    "\n",
    "For example, if you wanted to search a file for phone numbers, you might do something like:\n",
    "\n",
    "```\n",
    "[0-9]{3}-[0-9]{4}\n",
    "```\n",
    "\n",
    "`\\d` : Matches a numeric character 0-9. Equivalent to `[0-9]`\n",
    "\n",
    "`{n}` : Means 'match the previous pattern exactly n times'"
   ]
  },
  {
   "cell_type": "code",
   "execution_count": 27,
   "metadata": {
    "collapsed": false
   },
   "outputs": [
    {
     "name": "stdout",
     "output_type": "stream",
     "text": [
      "345-5678\n",
      "world\n",
      " 2430 ttys001    0:00.00 /bin/bash /Users/brianmann/anaconda/bin/python.app /Users/brianmann/anaconda/bin/ipython notebook\n",
      " 2431 ttys001    0:04.10 /Users/brianmann/anaconda/python.app/Contents/MacOS/python /Users/brianmann/anaconda/bin/ipython notebook\n",
      " 2441 ttys001    0:01.98 /Users/brianmann/anaconda/bin/python -m ipykernel -f /Users/brianmann/Library/Jupyter/runtime/kernel-0c73ae62-3dba-4185-9b23-a3b02477490d.json\n",
      " 2798 ttys001    0:00.00 grep python\n"
     ]
    }
   ],
   "source": [
    "%%bash \n",
    "\n",
    "echo \"345-5678\" | grep -E '\\d{3}-\\d{4}'\n",
    "echo \"345-567\" | grep -E '\\d{3}-\\d{4}'\n",
    "\n",
    "echo 'world' | grep -E world\n",
    "\n",
    "ps -A | grep python"
   ]
  },
  {
   "cell_type": "markdown",
   "metadata": {},
   "source": [
    "This regex is pretty simplistic though. What about phone numbers like (123) 456-7890 or 123-456-7890?\n",
    "\n",
    "Turns out you need something like \n",
    "\n",
    "```\n",
    "^(\\+\\d{1,2}\\s)?\\(?\\d{3}\\)?[\\s.-]?\\d{3}[\\s.-]?\\d{4}$\n",
    "```\n",
    "\n",
    "Regular expressions can get pretty complicated if you need to search for something general. It can be a puzzle to create one that works. Here's a [tutorial](http://www.tutorialspoint.com/python/python_reg_expressions.htm). The best way to learn is just to practice!"
   ]
  }
 ],
 "metadata": {
  "kernelspec": {
   "display_name": "Python 2",
   "language": "python",
   "name": "python2"
  },
  "language_info": {
   "codemirror_mode": {
    "name": "ipython",
    "version": 2
   },
   "file_extension": ".py",
   "mimetype": "text/x-python",
   "name": "python",
   "nbconvert_exporter": "python",
   "pygments_lexer": "ipython2",
   "version": "2.7.10"
  }
 },
 "nbformat": 4,
 "nbformat_minor": 0
}
