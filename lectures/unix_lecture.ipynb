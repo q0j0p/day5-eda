{
 "cells": [
  {
   "cell_type": "markdown",
   "metadata": {},
   "source": [
    "# Basic Unix Survival Skills\n",
    "\n",
    "## Configuring your environment\n",
    "\n",
    "The first thing you should do when you set up a unix machine is configure your shell (since you'll be working in it a lot). I'm assuming we'll be using a `bash` shell, but if you're using `zsh` or `sh` or any other shell, just replace `bash` with that in what follows.\n",
    "\n",
    "The user defined settings that determine where unix will look for executables will be stored in \n",
    "```\n",
    "~/.bash_profile\n",
    "```\n",
    "\n",
    "on OSX and \n",
    "```\n",
    "~/.bashrc\n",
    "``` \n",
    "on most linux distros. Generally speaking, files starting with a `.` contain configuration information and shouldn't be messed with unless you need to!!!"
   ]
  },
  {
   "cell_type": "code",
   "execution_count": 12,
   "metadata": {
    "collapsed": false
   },
   "outputs": [
    {
     "name": "stdout",
     "output_type": "stream",
     "text": [
      "Applications\n",
      "Coursework\n",
      "Desktop\n",
      "Documents\n",
      "Downloads\n",
      "Library\n",
      "Movies\n",
      "Music\n",
      "Pictures\n",
      "Projects\n",
      "Public\n",
      "anaconda\n",
      "nltk_data\n"
     ]
    }
   ],
   "source": [
    "%%bash\n",
    "\n",
    "# This won't show any dot-files\n",
    "\n",
    "ls ~"
   ]
  },
  {
   "cell_type": "code",
   "execution_count": 14,
   "metadata": {
    "collapsed": false
   },
   "outputs": [
    {
     "name": "stdout",
     "output_type": "stream",
     "text": [
      ".CFUserTextEncoding\n",
      ".DS_Store\n",
      ".Trash\n",
      ".atom\n",
      ".bash_history\n",
      ".bash_profile\n",
      ".bash_profile-anaconda.bak\n",
      ".bashrc\n",
      ".continuum\n",
      ".cups\n",
      ".gitconfig\n",
      ".graphlab\n",
      ".ipython\n",
      ".jupyter\n",
      ".matplotlib\n",
      ".viminfo\n",
      "Applications\n",
      "Coursework\n",
      "Desktop\n",
      "Documents\n",
      "Downloads\n",
      "Library\n",
      "Movies\n",
      "Music\n",
      "Pictures\n",
      "Projects\n",
      "Public\n",
      "anaconda\n",
      "nltk_data\n"
     ]
    }
   ],
   "source": [
    "%%bash\n",
    "\n",
    "# This will\n",
    "\n",
    "ls -A ~"
   ]
  },
  {
   "cell_type": "code",
   "execution_count": 65,
   "metadata": {
    "collapsed": false
   },
   "outputs": [
    {
     "name": "stdout",
     "output_type": "stream",
     "text": [
      "hello\n"
     ]
    }
   ],
   "source": [
    "%%bash \n",
    "\n",
    "#Suppose have have a script say_hello that prints the word hello to the terminal\n",
    "\n",
    "echo 'echo \"hello\"' > say_hello\n",
    "chmod u+x say_hello\n",
    "\n",
    "#I can run it from here by typing\n",
    "\n",
    "./say_hello"
   ]
  },
  {
   "cell_type": "code",
   "execution_count": 9,
   "metadata": {
    "collapsed": false
   },
   "outputs": [
    {
     "name": "stderr",
     "output_type": "stream",
     "text": [
      "bash: line 4: say_hello: command not found\n",
      "bash: line 9: say_hello: command not found\n"
     ]
    }
   ],
   "source": [
    "%%bash\n",
    "\n",
    "# But if I try to run it without the ./\n",
    "\n",
    "say_hello\n",
    "\n",
    "# or from somewhere else\n",
    "\n",
    "cd ~\n",
    "say_hello"
   ]
  },
  {
   "cell_type": "code",
   "execution_count": 27,
   "metadata": {
    "collapsed": false
   },
   "outputs": [
    {
     "name": "stdout",
     "output_type": "stream",
     "text": [
      "Path\n",
      "/Users/brianmann/anaconda/bin:/usr/local/bin:/usr/bin:/bin:/usr/sbin:/sbin\n",
      "New Path\n",
      "/Users/brianmann/anaconda/bin:/usr/local/bin:/usr/bin:/bin:/usr/sbin:/sbin:/Users/brianmann/Coursework/fundamentals/lectures/\n",
      "Saying Hello!\n",
      "hello\n"
     ]
    }
   ],
   "source": [
    "%%bash\n",
    "\n",
    "# In order to run an exectuable file, unix needs to know where it is\n",
    "# That's what the PATH variable is for: it stores a list of locations\n",
    "# where unix will look for commands that you type in\n",
    "\n",
    "echo \"Path\"\n",
    "echo $PATH\n",
    "\n",
    "# You can add directories to your PATH by adding the following line to your .bash_profile\n",
    "\n",
    "export PATH=\"$PATH:/Users/$USER/Coursework/fundamentals/lectures/\"\n",
    "\n",
    "# Now, this directory will be in your path everytime to start a bash shell\n",
    "\n",
    "echo \"New Path\"\n",
    "echo $PATH\n",
    "\n",
    "#And I can run my function from anywhere\n",
    "echo \"Saying Hello!\"\n",
    "say_hello"
   ]
  },
  {
   "cell_type": "markdown",
   "metadata": {},
   "source": [
    "### Side Note\n",
    "\n",
    "The `$` operator is used to print the value of a bash variable to `stdout` (said 'standard out'), the stream of text output for a unix shell (the output you read in the terminal). \n",
    "\n",
    "There is another stream as well, `stderr` (standard error), where errors are piped, but that's a little more advanced and we won't use it as much.\n",
    "\n",
    "The function `echo` takes string input from `stdin` (standard input - arguments you type in the terminal) and output to `stdout`. "
   ]
  },
  {
   "cell_type": "code",
   "execution_count": 31,
   "metadata": {
    "collapsed": false
   },
   "outputs": [
    {
     "name": "stdout",
     "output_type": "stream",
     "text": [
      "hello\n"
     ]
    }
   ],
   "source": [
    "%%bash\n",
    "\n",
    "echo \"hello\""
   ]
  },
  {
   "cell_type": "markdown",
   "metadata": {},
   "source": [
    "The function `cat` does the same thing, except if takes a file as input."
   ]
  },
  {
   "cell_type": "code",
   "execution_count": 32,
   "metadata": {
    "collapsed": false
   },
   "outputs": [
    {
     "name": "stdout",
     "output_type": "stream",
     "text": [
      "echo \"hello\"\n"
     ]
    }
   ],
   "source": [
    "%%bash\n",
    "\n",
    "cat say_hello"
   ]
  },
  {
   "cell_type": "code",
   "execution_count": 38,
   "metadata": {
    "collapsed": false
   },
   "outputs": [
    {
     "name": "stdout",
     "output_type": "stream",
     "text": [
      "Your username\n",
      "brianmann\n",
      "Your home directory\n",
      "/Users/brianmann\n",
      "Your shell\n",
      "/bin/bash\n"
     ]
    }
   ],
   "source": [
    "%%bash\n",
    "\n",
    "# There are other environment variables like PATH\n",
    "\n",
    "echo \"Your username:\"\n",
    "echo $USER\n",
    "\n",
    "echo \"Your home directory:\"\n",
    "echo $HOME\n",
    "\n",
    "echo \"Your shell:\"\n",
    "echo $SHELL"
   ]
  },
  {
   "cell_type": "markdown",
   "metadata": {},
   "source": [
    "## Permissions\n",
    "\n",
    "In Unix, a user can have 3 types of permissions on a file: Read, Write, and Execute. "
   ]
  },
  {
   "cell_type": "code",
   "execution_count": 43,
   "metadata": {
    "collapsed": false
   },
   "outputs": [
    {
     "name": "stdout",
     "output_type": "stream",
     "text": [
      "bss-correct.pdf\n",
      "say_hello\n",
      "unix_lecture.ipynb\n"
     ]
    }
   ],
   "source": [
    "%%bash\n",
    "\n",
    "#The ls command will list all the files and directories contained in a directory\n",
    "\n",
    "ls"
   ]
  },
  {
   "cell_type": "code",
   "execution_count": 45,
   "metadata": {
    "collapsed": false
   },
   "outputs": [
    {
     "name": "stdout",
     "output_type": "stream",
     "text": [
      "total 480\n",
      "-rw-r--r--  1 brianmann  staff  226758 Oct 22 15:23 bss-correct.pdf\n",
      "-rwxr--r--  1 brianmann  staff      13 Oct 22 15:44 say_hello\n",
      "-rw-r--r--  1 brianmann  staff    9767 Oct 22 16:32 unix_lecture.ipynb\n"
     ]
    }
   ],
   "source": [
    "%%bash\n",
    "\n",
    "# You can also add the -l flag to see more information\n",
    "\n",
    "ls -l"
   ]
  },
  {
   "cell_type": "markdown",
   "metadata": {},
   "source": [
    "The first 10 characters of the output above tells you the permissions:\n",
    "\n",
    "The first character is either `d` or `-`. This tells you whether it is a directory or not (a file). "
   ]
  },
  {
   "cell_type": "code",
   "execution_count": 46,
   "metadata": {
    "collapsed": false
   },
   "outputs": [
    {
     "name": "stdout",
     "output_type": "stream",
     "text": [
      "total 96\n",
      "-rw-r--r--  1 brianmann  staff   7514 Oct 22 15:23 Data science workflow.ipynb\n",
      "-rw-r--r--  1 brianmann  staff  13336 Oct 22 15:23 EDA.ipynb\n",
      "-rw-r--r--  1 brianmann  staff   5688 Oct 22 13:35 README.md\n",
      "drwxr-xr-x  4 brianmann  staff    136 Oct 22 13:35 img\n",
      "-rw-r--r--  1 brianmann  staff   5501 Oct 22 13:35 individual.md\n",
      "drwxr-xr-x  6 brianmann  staff    204 Oct 22 16:32 lectures\n",
      "-rw-r--r--  1 brianmann  staff   3439 Oct 22 13:35 miniquiz.md\n",
      "-rw-r--r--  1 brianmann  staff     28 Oct 22 13:35 pair.md\n"
     ]
    }
   ],
   "source": [
    "%%bash\n",
    "\n",
    "# .. refers to the directory one level up\n",
    "\n",
    "ls -l .."
   ]
  },
  {
   "cell_type": "markdown",
   "metadata": {},
   "source": [
    "The next 9 characters are in blocks of 3: \n",
    "```\n",
    "user permissions | group permissions | other permissions\n",
    "```\n",
    "\n",
    "The first character is `'r'` or `'-'` : read permission.\n",
    "\n",
    "The second is `'w'` or `'-'` : write permissions.\n",
    "\n",
    "The third is `'x'` or `'-'` : execute permissions.\n",
    "\n",
    "In each line above, the owning user and the group that user is in are displyed in columns 3 and 4. So, for example, `brianmann` has `rwx` permissions on `say_hello`, but no one else has permissions to write to it or execute it. "
   ]
  },
  {
   "cell_type": "markdown",
   "metadata": {},
   "source": [
    "## Navigating the Filesystem\n",
    "\n",
    "So, how do you navigate to, move, copy, or delete files and directories?\n",
    "\n",
    "`ls` [dir] : List the contents of a directory\n",
    "\n",
    "`pwd` : Print current directory\n",
    "\n",
    "`cd` [dir] : Change directory\n",
    "\n",
    "`mkdir` dir : Make a new directory\n",
    "\n",
    "`rmdir` dir : Delete directory\n",
    "\n",
    "`rm` file : Delete file\n",
    "\n",
    "`rm -rf` * : Nuke everything, file or an entire directory. This cannot be undone. It will not give you a warning if you're about to delete something important. Never do this.\n",
    "\n",
    "`mv` from to : Move a file or directory. Can also be used to rename a file or directory.\n",
    "\n",
    "`find` : Traverse directory tree and execute commands\n",
    "\n",
    "`chmod` : Change permissions\n",
    "\n",
    "`chown` : Change ownership"
   ]
  },
  {
   "cell_type": "code",
   "execution_count": 59,
   "metadata": {
    "collapsed": false
   },
   "outputs": [
    {
     "name": "stdout",
     "output_type": "stream",
     "text": [
      "bss-correct.pdf\n",
      "say_hello\n",
      "unix_lecture.ipynb\n"
     ]
    }
   ],
   "source": [
    "%%bash \n",
    "\n",
    "ls"
   ]
  },
  {
   "cell_type": "markdown",
   "metadata": {},
   "source": [
    "## Examining files\n",
    "\n",
    "What if you want to look at / know something about a file?\n",
    "\n",
    "`less` : View contents of a file and page through it.\n",
    "\n",
    "`grep` : Search lines for matches of a regular expression or string.\n",
    "\n",
    "`cat` : Write one or more files to `stdout`.\n",
    "\n",
    "`head` : Print the first few lines of a file to `stdout`.\n",
    "\n",
    "`tail` : Print the last few lines of a file to `stdout`.\n",
    "\n",
    "`wc` : Print the number of character, words, and lines in a file.\n",
    "\n",
    "`cmp` : Tell if files are the same.\n",
    "\n",
    "`diff` : Show difference between files.\n",
    "\n",
    "`md5sum` : Compute checksum of file."
   ]
  },
  {
   "cell_type": "code",
   "execution_count": 62,
   "metadata": {
    "collapsed": false
   },
   "outputs": [
    {
     "name": "stdout",
     "output_type": "stream",
     "text": [
      "bss-correct.pdf\n",
      "say_hello\n",
      "unix_lecture.ipynb\n"
     ]
    }
   ],
   "source": [
    "%%bash\n",
    "\n",
    "ls"
   ]
  },
  {
   "cell_type": "markdown",
   "metadata": {},
   "source": [
    "## Doing things with files\n",
    "\n",
    "All unix functions are based on the idea that text files are made up of lines or text. \n",
    "\n",
    "`sort` : Sorts the lines in a file\n",
    "\n",
    "`uniq` : Outputs file with adjacent identical lines collapsed to one\n",
    "\n",
    "`cut` : Extract parts of each line of input\n",
    "\n",
    "`paste` : Joins files by outputing sequentially corresponding lines of each file (horizontal version of `cat`)\n",
    "\n",
    "`sed` : Find and replace.\n",
    "\n",
    "`awk` : Command for more advanced line-by-line file manipulation."
   ]
  },
  {
   "cell_type": "code",
   "execution_count": null,
   "metadata": {
    "collapsed": true
   },
   "outputs": [],
   "source": []
  },
  {
   "cell_type": "markdown",
   "metadata": {},
   "source": [
    "## More advanced pipelines\n",
    "\n",
    "What if I want to chain these commands together? Do I need to write the result to a file each time and then read that in to the next command? NO!\n",
    "\n",
    "You can use IO redirection and pipes: `>, <, >>, |`\n",
    "\n",
    "`>` : Redirect output to a file. WILL OVERWRITE IF EXISTS.\n",
    "\n",
    "`>>` : Append output to and existing file.\n",
    "\n",
    "`<` : Read a command's input from disk.\n",
    "\n",
    "`|` : Pass output from one command as the input to another."
   ]
  },
  {
   "cell_type": "code",
   "execution_count": null,
   "metadata": {
    "collapsed": true
   },
   "outputs": [],
   "source": []
  },
  {
   "cell_type": "markdown",
   "metadata": {},
   "source": [
    "## A Simple Bash Script"
   ]
  },
  {
   "cell_type": "markdown",
   "metadata": {},
   "source": [
    "## Remote machines"
   ]
  },
  {
   "cell_type": "markdown",
   "metadata": {},
   "source": [
    "## Regular Expressions (Regex)"
   ]
  },
  {
   "cell_type": "code",
   "execution_count": null,
   "metadata": {
    "collapsed": true
   },
   "outputs": [],
   "source": []
  }
 ],
 "metadata": {
  "kernelspec": {
   "display_name": "Python 2",
   "language": "python",
   "name": "python2"
  },
  "language_info": {
   "codemirror_mode": {
    "name": "ipython",
    "version": 2
   },
   "file_extension": ".py",
   "mimetype": "text/x-python",
   "name": "python",
   "nbconvert_exporter": "python",
   "pygments_lexer": "ipython2",
   "version": "2.7.10"
  }
 },
 "nbformat": 4,
 "nbformat_minor": 0
}
